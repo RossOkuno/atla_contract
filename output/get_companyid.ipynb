{
 "cells": [
  {
   "cell_type": "code",
   "execution_count": 261,
   "metadata": {},
   "outputs": [],
   "source": [
    "import pandas as pd\n",
    "import warnings\n",
    "warnings.filterwarnings('ignore')"
   ]
  },
  {
   "cell_type": "code",
   "execution_count": 91,
   "metadata": {},
   "outputs": [],
   "source": [
    "df = pd.read_excel('merged.xlsx')"
   ]
  },
  {
   "cell_type": "code",
   "execution_count": 262,
   "metadata": {},
   "outputs": [],
   "source": [
    "contractor = df[['法人番号', 'contractor', 'JFY']]"
   ]
  },
  {
   "cell_type": "code",
   "execution_count": 263,
   "metadata": {},
   "outputs": [],
   "source": [
    "contractor['法人番号'][contractor['法人番号'].notnull()] = contractor['法人番号'][contractor['法人番号'].notnull()].astype(int)\n",
    "contractor['法人番号'][contractor['法人番号'].notnull()] = contractor['法人番号'][contractor['法人番号'].notnull()].astype(str)"
   ]
  },
  {
   "cell_type": "code",
   "execution_count": 265,
   "metadata": {},
   "outputs": [],
   "source": [
    "unique_df = contractor[['法人番号', 'contractor']]\n",
    "unique_df = unique_df[~unique_df.duplicated()]"
   ]
  },
  {
   "cell_type": "code",
   "execution_count": 266,
   "metadata": {},
   "outputs": [],
   "source": [
    "non_null_cont = list(unique_df['contractor'][unique_df['法人番号'].notnull()])"
   ]
  },
  {
   "cell_type": "code",
   "execution_count": 267,
   "metadata": {},
   "outputs": [],
   "source": [
    "unique_df['remove'] = 0\n",
    "unique_df['remove'][unique_df['法人番号'].isnull() & unique_df['contractor'].isin(non_null_cont)] = 1"
   ]
  },
  {
   "cell_type": "code",
   "execution_count": 268,
   "metadata": {},
   "outputs": [],
   "source": [
    "unique_df = unique_df[unique_df['remove'] != 1]"
   ]
  },
  {
   "cell_type": "code",
   "execution_count": 269,
   "metadata": {},
   "outputs": [],
   "source": [
    "contractor = contractor.dropna(subset=['法人番号']) "
   ]
  },
  {
   "cell_type": "code",
   "execution_count": 271,
   "metadata": {},
   "outputs": [],
   "source": [
    "contractor = contractor.sort_values('JFY').reset_index(drop=True)"
   ]
  },
  {
   "cell_type": "code",
   "execution_count": 272,
   "metadata": {},
   "outputs": [],
   "source": [
    "contractor = contractor[contractor.duplicated(subset='法人番号', keep='last')==False]"
   ]
  },
  {
   "cell_type": "code",
   "execution_count": 273,
   "metadata": {},
   "outputs": [],
   "source": [
    "contractor = contractor.reset_index(drop=True)"
   ]
  },
  {
   "cell_type": "code",
   "execution_count": 274,
   "metadata": {},
   "outputs": [],
   "source": [
    "contractor = contractor[['法人番号', 'contractor']]"
   ]
  },
  {
   "cell_type": "code",
   "execution_count": 275,
   "metadata": {},
   "outputs": [],
   "source": [
    "unique_df = unique_df[['法人番号', 'contractor']]"
   ]
  },
  {
   "cell_type": "code",
   "execution_count": 276,
   "metadata": {},
   "outputs": [],
   "source": [
    "df_merged = pd.merge(unique_df, contractor, how='left', left_on =[\"法人番号\"], right_on =[\"法人番号\"])"
   ]
  },
  {
   "cell_type": "code",
   "execution_count": 278,
   "metadata": {},
   "outputs": [],
   "source": [
    "df_merged.columns = ['contractor_id', 'contractor_name_old', 'contractor_name']"
   ]
  },
  {
   "cell_type": "code",
   "execution_count": 279,
   "metadata": {},
   "outputs": [
    {
     "data": {
      "text/html": [
       "<div>\n",
       "<style scoped>\n",
       "    .dataframe tbody tr th:only-of-type {\n",
       "        vertical-align: middle;\n",
       "    }\n",
       "\n",
       "    .dataframe tbody tr th {\n",
       "        vertical-align: top;\n",
       "    }\n",
       "\n",
       "    .dataframe thead th {\n",
       "        text-align: right;\n",
       "    }\n",
       "</style>\n",
       "<table border=\"1\" class=\"dataframe\">\n",
       "  <thead>\n",
       "    <tr style=\"text-align: right;\">\n",
       "      <th></th>\n",
       "      <th>contractor_id</th>\n",
       "      <th>contractor_name_old</th>\n",
       "      <th>contractor_name</th>\n",
       "    </tr>\n",
       "  </thead>\n",
       "  <tbody>\n",
       "    <tr>\n",
       "      <th>0</th>\n",
       "      <td>7010401022916.0</td>\n",
       "      <td>日本電気株式会社</td>\n",
       "      <td>日本電気株式会社</td>\n",
       "    </tr>\n",
       "    <tr>\n",
       "      <th>1</th>\n",
       "      <td>NaN</td>\n",
       "      <td>米空軍省</td>\n",
       "      <td>NaN</td>\n",
       "    </tr>\n",
       "    <tr>\n",
       "      <th>2</th>\n",
       "      <td>1010001089519.0</td>\n",
       "      <td>新成物産株式会社</td>\n",
       "      <td>新成物産株式会社</td>\n",
       "    </tr>\n",
       "    <tr>\n",
       "      <th>3</th>\n",
       "      <td>NaN</td>\n",
       "      <td>米陸軍省</td>\n",
       "      <td>NaN</td>\n",
       "    </tr>\n",
       "    <tr>\n",
       "      <th>4</th>\n",
       "      <td>4010401036687.0</td>\n",
       "      <td>株式会社ENEOSサンエナジー</td>\n",
       "      <td>株式会社ENEOSサンエナジー</td>\n",
       "    </tr>\n",
       "    <tr>\n",
       "      <th>...</th>\n",
       "      <td>...</td>\n",
       "      <td>...</td>\n",
       "      <td>...</td>\n",
       "    </tr>\n",
       "    <tr>\n",
       "      <th>1527</th>\n",
       "      <td>NaN</td>\n",
       "      <td>オノデラ制作所株式会社</td>\n",
       "      <td>NaN</td>\n",
       "    </tr>\n",
       "    <tr>\n",
       "      <th>1528</th>\n",
       "      <td>NaN</td>\n",
       "      <td>湧永製薬株式会社</td>\n",
       "      <td>NaN</td>\n",
       "    </tr>\n",
       "    <tr>\n",
       "      <th>1529</th>\n",
       "      <td>NaN</td>\n",
       "      <td>光洋商事株式会社</td>\n",
       "      <td>NaN</td>\n",
       "    </tr>\n",
       "    <tr>\n",
       "      <th>1530</th>\n",
       "      <td>NaN</td>\n",
       "      <td>株式会社ライトボーイ</td>\n",
       "      <td>NaN</td>\n",
       "    </tr>\n",
       "    <tr>\n",
       "      <th>1531</th>\n",
       "      <td>NaN</td>\n",
       "      <td>東洋事務器工業株式会社</td>\n",
       "      <td>NaN</td>\n",
       "    </tr>\n",
       "  </tbody>\n",
       "</table>\n",
       "<p>1532 rows × 3 columns</p>\n",
       "</div>"
      ],
      "text/plain": [
       "        contractor_id contractor_name_old  contractor_name\n",
       "0     7010401022916.0            日本電気株式会社         日本電気株式会社\n",
       "1                 NaN                米空軍省              NaN\n",
       "2     1010001089519.0            新成物産株式会社         新成物産株式会社\n",
       "3                 NaN                米陸軍省              NaN\n",
       "4     4010401036687.0     株式会社ENEOSサンエナジー  株式会社ENEOSサンエナジー\n",
       "...               ...                 ...              ...\n",
       "1527              NaN         オノデラ制作所株式会社              NaN\n",
       "1528              NaN            湧永製薬株式会社              NaN\n",
       "1529              NaN            光洋商事株式会社              NaN\n",
       "1530              NaN          株式会社ライトボーイ              NaN\n",
       "1531              NaN         東洋事務器工業株式会社              NaN\n",
       "\n",
       "[1532 rows x 3 columns]"
      ]
     },
     "execution_count": 279,
     "metadata": {},
     "output_type": "execute_result"
    }
   ],
   "source": [
    "df_merged"
   ]
  },
  {
   "cell_type": "code",
   "execution_count": 260,
   "metadata": {},
   "outputs": [],
   "source": [
    "df_merged.to_excel('test.xlsx', index=False)"
   ]
  },
  {
   "cell_type": "code",
   "execution_count": null,
   "metadata": {},
   "outputs": [],
   "source": [
    "# contractor.to_excel('contractor_id.xlsx', index=False)"
   ]
  },
  {
   "cell_type": "code",
   "execution_count": 311,
   "metadata": {},
   "outputs": [
    {
     "name": "stdout",
     "output_type": "stream",
     "text": [
      "0 富士重工業株式会社\n",
      "株式会社SUBARU\n",
      "1 test\n",
      "test\n"
     ]
    }
   ],
   "source": [
    "contractors = pd.read_excel('/Users/rairaokuno/atla_contract/data/contractors/contractors.xlsx')\n",
    "for i, r in enumerate(contractors['fomer_name']):\n",
    "    print(i, r)\n",
    "    print(contractors['current_name'][i])"
   ]
  },
  {
   "cell_type": "code",
   "execution_count": 300,
   "metadata": {},
   "outputs": [
    {
     "data": {
      "text/html": [
       "<div>\n",
       "<style scoped>\n",
       "    .dataframe tbody tr th:only-of-type {\n",
       "        vertical-align: middle;\n",
       "    }\n",
       "\n",
       "    .dataframe tbody tr th {\n",
       "        vertical-align: top;\n",
       "    }\n",
       "\n",
       "    .dataframe thead th {\n",
       "        text-align: right;\n",
       "    }\n",
       "</style>\n",
       "<table border=\"1\" class=\"dataframe\">\n",
       "  <thead>\n",
       "    <tr style=\"text-align: right;\">\n",
       "      <th></th>\n",
       "      <th>contractor_id</th>\n",
       "      <th>fomer_name</th>\n",
       "      <th>current_name</th>\n",
       "    </tr>\n",
       "  </thead>\n",
       "  <tbody>\n",
       "    <tr>\n",
       "      <th>0</th>\n",
       "      <td>5011101019196.0</td>\n",
       "      <td>富士重工業株式会社</td>\n",
       "      <td>株式会社SUBARU</td>\n",
       "    </tr>\n",
       "    <tr>\n",
       "      <th>1</th>\n",
       "      <td>test</td>\n",
       "      <td>test</td>\n",
       "      <td>test</td>\n",
       "    </tr>\n",
       "  </tbody>\n",
       "</table>\n",
       "</div>"
      ],
      "text/plain": [
       "     contractor_id fomer_name current_name\n",
       "0  5011101019196.0  富士重工業株式会社   株式会社SUBARU\n",
       "1             test       test         test"
      ]
     },
     "execution_count": 300,
     "metadata": {},
     "output_type": "execute_result"
    }
   ],
   "source": [
    "contractors[]"
   ]
  },
  {
   "cell_type": "code",
   "execution_count": null,
   "metadata": {},
   "outputs": [],
   "source": [
    "contractors = pd.read_excel('/Users/rairaokuno/atla_contract/data/contractors/contractors.xlsx')\n",
    "for i, r in enumerate(contractors):\n",
    "    id = r[0]\n",
    "    former = r[1]\n",
    "    current = r[2]\n",
    "    if former in df['contractor']:\n",
    "        df['法人番号'][df['contractor'] == former] = id\n",
    "    else:\n",
    "        print('pass')\n",
    "return df\n"
   ]
  }
 ],
 "metadata": {
  "kernelspec": {
   "display_name": "Python 3",
   "language": "python",
   "name": "python3"
  },
  "language_info": {
   "codemirror_mode": {
    "name": "ipython",
    "version": 3
   },
   "file_extension": ".py",
   "mimetype": "text/x-python",
   "name": "python",
   "nbconvert_exporter": "python",
   "pygments_lexer": "ipython3",
   "version": "3.8.5"
  }
 },
 "nbformat": 4,
 "nbformat_minor": 4
}
